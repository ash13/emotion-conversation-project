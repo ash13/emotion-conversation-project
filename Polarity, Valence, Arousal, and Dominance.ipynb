{
 "cells": [
  {
   "cell_type": "markdown",
   "id": "fcb6b6f5",
   "metadata": {
    "tags": []
   },
   "source": [
    "# Finding Polarity "
   ]
  },
  {
   "cell_type": "code",
   "execution_count": 4,
   "id": "f096e727",
   "metadata": {
    "tags": []
   },
   "outputs": [],
   "source": [
    "import nltk\n",
    "import csv\n",
    "import numpy as np\n",
    "import pandas as pd\n",
    "from nltk.sentiment.vader import SentimentIntensityAnalyzer"
   ]
  },
  {
   "cell_type": "code",
   "execution_count": 5,
   "id": "24094805",
   "metadata": {
    "tags": []
   },
   "outputs": [],
   "source": [
    "def read_csv_column(file_path, row_start, row_end):\n",
    "    data = []\n",
    "    rowcount = 0\n",
    "    with open(file_path, 'r') as csvfile:\n",
    "        reader = csv.reader(csvfile)\n",
    "        for row in reader:\n",
    "            if rowcount >= row_start and rowcount < row_end:\n",
    "                if len(row) > 7:\n",
    "                    data.append(row[7]) # column 7 is the column for utterances\n",
    "                    rowcount += 1\n",
    "            elif rowcount >= row_end:\n",
    "                break\n",
    "            else: \n",
    "                rowcount+= 1\n",
    "    return data"
   ]
  },
  {
   "cell_type": "code",
   "execution_count": 6,
   "id": "f1b43d58",
   "metadata": {
    "tags": []
   },
   "outputs": [],
   "source": [
    "data = read_csv_column(\"/Users/tvidyala/Desktop/CHILDES/eng-NA-all-utterances.csv\", 1, 5)"
   ]
  },
  {
   "cell_type": "code",
   "execution_count": 3,
   "id": "b50ad17d",
   "metadata": {
    "tags": []
   },
   "outputs": [
    {
     "name": "stderr",
     "output_type": "stream",
     "text": [
      "Hardware accelerator e.g. GPU is available in the environment, but no `device` argument is passed to the `Pipeline` object. Model will be on CPU.\n"
     ]
    },
    {
     "ename": "NameError",
     "evalue": "name 'tokenizer' is not defined",
     "output_type": "error",
     "traceback": [
      "\u001b[0;31m---------------------------------------------------------------------------\u001b[0m",
      "\u001b[0;31mNameError\u001b[0m                                 Traceback (most recent call last)",
      "Cell \u001b[0;32mIn[3], line 3\u001b[0m\n\u001b[1;32m      1\u001b[0m \u001b[38;5;28;01mfrom\u001b[39;00m \u001b[38;5;21;01mtransformers\u001b[39;00m \u001b[38;5;28;01mimport\u001b[39;00m pipeline\n\u001b[1;32m      2\u001b[0m sentiment_pipeline \u001b[38;5;241m=\u001b[39m pipeline(\u001b[38;5;124m\"\u001b[39m\u001b[38;5;124msentiment-analysis\u001b[39m\u001b[38;5;124m\"\u001b[39m, model\u001b[38;5;241m=\u001b[39m\u001b[38;5;124m\"\u001b[39m\u001b[38;5;124mdistilbert-base-uncased-finetuned-sst-2-english\u001b[39m\u001b[38;5;124m\"\u001b[39m)\n\u001b[0;32m----> 3\u001b[0m tokenizer_output \u001b[38;5;241m=\u001b[39m tokenizer(text, clean_up_tokenization_spaces\u001b[38;5;241m=\u001b[39m\u001b[38;5;28;01mTrue\u001b[39;00m)  \n\u001b[1;32m      4\u001b[0m data \u001b[38;5;241m=\u001b[39m [\u001b[38;5;124m\"\u001b[39m\u001b[38;5;124mI feel good\u001b[39m\u001b[38;5;124m\"\u001b[39m]\n\u001b[1;32m      6\u001b[0m \u001b[38;5;28;01mfor\u001b[39;00m item \u001b[38;5;129;01min\u001b[39;00m data:\n",
      "\u001b[0;31mNameError\u001b[0m: name 'tokenizer' is not defined"
     ]
    }
   ],
   "source": [
    "from transformers import pipeline\n",
    "sentiment_pipeline = pipeline(\"sentiment-analysis\", model=\"distilbert-base-uncased-finetuned-sst-2-english\")\n",
    "data = [\"I feel good\"]\n",
    "\n",
    "for item in data:\n",
    "    print(f\"Text: {item}\")\n",
    "    result = sentiment_pipeline(item)\n",
    "    print(f\"Sentiment: {result[0]['label']}, Confidence: {result[0]['score']:.4f}\\n\")"
   ]
  },
  {
   "cell_type": "code",
   "execution_count": 22,
   "id": "275aaeb9",
   "metadata": {},
   "outputs": [
    {
     "name": "stdout",
     "output_type": "stream",
     "text": [
      "wanna stack them for me\n",
      "{'neg': 0.0, 'neu': 1.0, 'pos': 0.0, 'compound': 0.0}\n",
      "\n",
      "that baby\n",
      "{'neg': 0.0, 'neu': 1.0, 'pos': 0.0, 'compound': 0.0}\n",
      "\n",
      "oh\n",
      "{'neg': 0.0, 'neu': 1.0, 'pos': 0.0, 'compound': 0.0}\n",
      "\n",
      "did you say baby\n",
      "{'neg': 0.0, 'neu': 1.0, 'pos': 0.0, 'compound': 0.0}\n",
      "\n"
     ]
    }
   ],
   "source": [
    "from nltk.sentiment.vader import SentimentIntensityAnalyzer\n",
    "analyzer = SentimentIntensityAnalyzer()\n",
    "data = data \n",
    "for item in data:\n",
    "    print(item)\n",
    "    print(f\"{analyzer.polarity_scores(item)}\\n\")"
   ]
  },
  {
   "cell_type": "code",
   "execution_count": 1,
   "id": "a3668b9d",
   "metadata": {
    "tags": []
   },
   "outputs": [
    {
     "name": "stdout",
     "output_type": "stream",
     "text": [
      "i feel happy\n"
     ]
    },
    {
     "ename": "NameError",
     "evalue": "name 'sentiment_pipeline' is not defined",
     "output_type": "error",
     "traceback": [
      "\u001b[0;31m---------------------------------------------------------------------------\u001b[0m",
      "\u001b[0;31mNameError\u001b[0m                                 Traceback (most recent call last)",
      "Cell \u001b[0;32mIn[1], line 6\u001b[0m\n\u001b[1;32m      4\u001b[0m \u001b[38;5;28;01mfor\u001b[39;00m item \u001b[38;5;129;01min\u001b[39;00m data:\n\u001b[1;32m      5\u001b[0m     \u001b[38;5;28mprint\u001b[39m(item)\n\u001b[0;32m----> 6\u001b[0m     \u001b[38;5;28mprint\u001b[39m(\u001b[38;5;124mf\u001b[39m\u001b[38;5;124m\"\u001b[39m\u001b[38;5;132;01m{\u001b[39;00msentiment_pipeline(item)\u001b[38;5;132;01m}\u001b[39;00m\u001b[38;5;130;01m\\n\u001b[39;00m\u001b[38;5;124m\"\u001b[39m)\n\u001b[1;32m      7\u001b[0m     \u001b[38;5;28mprint\u001b[39m(\u001b[38;5;124mf\u001b[39m\u001b[38;5;124m\"\u001b[39m\u001b[38;5;132;01m{\u001b[39;00manalyzer\u001b[38;5;241m.\u001b[39mpolarity_scores(item)\u001b[38;5;132;01m}\u001b[39;00m\u001b[38;5;130;01m\\n\u001b[39;00m\u001b[38;5;124m\"\u001b[39m)\n",
      "\u001b[0;31mNameError\u001b[0m: name 'sentiment_pipeline' is not defined"
     ]
    }
   ],
   "source": [
    "from nltk.sentiment.vader import SentimentIntensityAnalyzer\n",
    "analyzer = SentimentIntensityAnalyzer()\n",
    "data = [\"i feel happy\"] \n",
    "for item in data:\n",
    "    print(item)\n",
    "    print(f\"{sentiment_pipeline(item)}\\n\")\n",
    "    print(f\"{analyzer.polarity_scores(item)}\\n\")"
   ]
  },
  {
   "cell_type": "markdown",
   "id": "424dac7a-5c0f-4ae6-a882-2094d07ba827",
   "metadata": {},
   "source": [
    "# Finding Valence, Arousal, and Dominance"
   ]
  },
  {
   "cell_type": "code",
   "execution_count": null,
   "id": "8fbd1d12-f706-4dc0-83bf-a95fbfd97883",
   "metadata": {
    "tags": []
   },
   "outputs": [],
   "source": [
    "def VAD(text, vad_scores):\n",
    "    i, j = 0, 0\n",
    "    text_vad = np.zeros([3,])\n",
    "    for word in text.split(' '):\n",
    "        neg = 1  # reverse polarity for this word\n",
    "        if word in vad_scores.index:\n",
    "            if 'no' in text.split(' ')[max(0, j-6):j] or 'not' in text.split(' ')[max(0, j-6):j] or 'n\\'t' in str(text.split(' ')[max(0, j-3):j]):\n",
    "                neg = -1\n",
    "            text_vad = vad_scores.loc[word] * neg + text_vad\n",
    "            i += 1\n",
    "        j += 1\n",
    "    return text_vad / i\n",
    "\n",
    "def read_csv_column(file_path, row_start, row_end, column_index):\n",
    "    data = []\n",
    "    rowcount = 0\n",
    "    with open(file_path, 'r') as csvfile:\n",
    "        reader = csv.reader(csvfile)\n",
    "        for row in reader:\n",
    "            if rowcount >= row_start and rowcount < row_end:\n",
    "                if len(row) > column_index:\n",
    "                    data.append(row[column_index])\n",
    "                rowcount += 1\n",
    "            elif rowcount >= row_end:\n",
    "                break\n",
    "            else: \n",
    "                rowcount += 1\n",
    "    return data\n",
    "\n",
    "# Read child's data from CSV file\n",
    "data = read_csv_column(\"/Users/tvidyala/Desktop/CHILDES/Laura.csv\", 1, 10, 8) \n",
    "speaker_data = read_csv_column(\"/Users/tvidyala/Desktop/CHILDES/Laura.csv\", 1, 10, 4) \n",
    "filename_data = read_csv_column(\"/Users/tvidyala/Desktop/CHILDES/Laura.csv\", 1, 10, 0)\n",
    "\n",
    "# Load VAD scores\n",
    "vad_scores = pd.read_csv(\"vad-nrc.csv\", index_col='Word')\n",
    "\n",
    "# Calculate VAD scores for each CHILD utterance\n",
    "for text in data:\n",
    "    vad = VAD(text, vad_scores)\n",
    "    print(data.index(text)+1)\n",
    "    print(f'{speaker_data[data.index(text)]}: \"{text}\"')\n",
    "    if np.isnan(vad).any():\n",
    "        print(\"N/A \\n\")\n",
    "    else:\n",
    "        print(vad)\n",
    "        print(\"\")\n",
    "        \n",
    "arousal_scores = []\n",
    "valence_scores = []\n",
    "dominance_scores = []\n",
    "\n",
    "for text in data:\n",
    "    vad = VAD(text, vad_scores)\n",
    "    arousal_scores.append(vad[0])\n",
    "    valence_scores.append(vad[1])\n",
    "    dominance_scores.append(vad[2])\n",
    "\n",
    "df = pd.DataFrame({\n",
    "    'File Name': filename_data,\n",
    "    'Utterance': data,\n",
    "    'Speaker': speaker_data,\n",
    "    'Arousal': arousal_scores,\n",
    "    'Valence': valence_scores,\n",
    "    'Dominance': dominance_scores\n",
    "})\n",
    "\n",
    "df.to_csv(\"/Users/tvidyala/Desktop/CHILDES/LauraVADScores.csv\", index=False) # updates LauraVADScores with VAD Scores\n"
   ]
  },
  {
   "cell_type": "markdown",
   "id": "d76538f1-f3b5-4e9b-aa7f-c55299301e40",
   "metadata": {},
   "source": [
    "# Finding Average Valence, Arousal, and Dominance for Child by Age"
   ]
  },
  {
   "cell_type": "code",
   "execution_count": 2,
   "id": "59f92669-a6b5-4ff7-95af-a95b21e16712",
   "metadata": {
    "tags": []
   },
   "outputs": [
    {
     "ename": "NameError",
     "evalue": "name 'csv' is not defined",
     "output_type": "error",
     "traceback": [
      "\u001b[0;31m---------------------------------------------------------------------------\u001b[0m",
      "\u001b[0;31mNameError\u001b[0m                                 Traceback (most recent call last)",
      "Cell \u001b[0;32mIn[2], line 31\u001b[0m\n\u001b[1;32m     28\u001b[0m     \u001b[38;5;28;01mreturn\u001b[39;00m data\n\u001b[1;32m     30\u001b[0m \u001b[38;5;66;03m# Read child's data from CSV file\u001b[39;00m\n\u001b[0;32m---> 31\u001b[0m data \u001b[38;5;241m=\u001b[39m read_csv_column(\u001b[38;5;124m\"\u001b[39m\u001b[38;5;124m/Users/tvidyala/Desktop/CHILDES/Laura.csv\u001b[39m\u001b[38;5;124m\"\u001b[39m, \u001b[38;5;241m1\u001b[39m, \u001b[38;5;241m100\u001b[39m, \u001b[38;5;241m8\u001b[39m)  \u001b[38;5;66;03m# Assuming column 7 contains utterances\u001b[39;00m\n\u001b[1;32m     32\u001b[0m speaker_data \u001b[38;5;241m=\u001b[39m read_csv_column(\u001b[38;5;124m\"\u001b[39m\u001b[38;5;124m/Users/tvidyala/Desktop/CHILDES/Laura.csv\u001b[39m\u001b[38;5;124m\"\u001b[39m, \u001b[38;5;241m1\u001b[39m, \u001b[38;5;241m100\u001b[39m, \u001b[38;5;241m4\u001b[39m)  \u001b[38;5;66;03m# Assuming column 3 contains speaker data\u001b[39;00m\n\u001b[1;32m     33\u001b[0m age_data \u001b[38;5;241m=\u001b[39m read_csv_column(\u001b[38;5;124m\"\u001b[39m\u001b[38;5;124m/Users/tvidyala/Desktop/CHILDES/Laura.csv\u001b[39m\u001b[38;5;124m\"\u001b[39m, \u001b[38;5;241m1\u001b[39m, \u001b[38;5;241m100\u001b[39m, \u001b[38;5;241m1\u001b[39m)  \u001b[38;5;66;03m# Assuming column 11 contains age data\u001b[39;00m\n",
      "Cell \u001b[0;32mIn[2], line 18\u001b[0m, in \u001b[0;36mread_csv_column\u001b[0;34m(file_path, row_start, row_end, column_index)\u001b[0m\n\u001b[1;32m     16\u001b[0m rowcount \u001b[38;5;241m=\u001b[39m \u001b[38;5;241m0\u001b[39m\n\u001b[1;32m     17\u001b[0m \u001b[38;5;28;01mwith\u001b[39;00m \u001b[38;5;28mopen\u001b[39m(file_path, \u001b[38;5;124m'\u001b[39m\u001b[38;5;124mr\u001b[39m\u001b[38;5;124m'\u001b[39m) \u001b[38;5;28;01mas\u001b[39;00m csvfile:\n\u001b[0;32m---> 18\u001b[0m     reader \u001b[38;5;241m=\u001b[39m csv\u001b[38;5;241m.\u001b[39mreader(csvfile)\n\u001b[1;32m     19\u001b[0m     \u001b[38;5;28;01mfor\u001b[39;00m row \u001b[38;5;129;01min\u001b[39;00m reader:\n\u001b[1;32m     20\u001b[0m         \u001b[38;5;28;01mif\u001b[39;00m rowcount \u001b[38;5;241m>\u001b[39m\u001b[38;5;241m=\u001b[39m row_start \u001b[38;5;129;01mand\u001b[39;00m rowcount \u001b[38;5;241m<\u001b[39m row_end:\n",
      "\u001b[0;31mNameError\u001b[0m: name 'csv' is not defined"
     ]
    }
   ],
   "source": [
    "def VAD(text, vad_scores):\n",
    "    i, j = 0, 0\n",
    "    text_vad = np.zeros([3,])\n",
    "    for word in text.split(' '):\n",
    "        neg = 1  # reverse polarity for this word\n",
    "        if word in vad_scores.index:\n",
    "            if 'no' in text.split(' ')[max(0, j-6):j] or 'not' in text.split(' ')[max(0, j-6):j] or 'n\\'t' in str(text.split(' ')[max(0, j-3):j]):\n",
    "                neg = -1\n",
    "            text_vad = vad_scores.loc[word] * neg + text_vad\n",
    "            i += 1\n",
    "        j += 1\n",
    "    return text_vad / i\n",
    "\n",
    "def read_csv_column(file_path, row_start, row_end, column_index):\n",
    "    data = []\n",
    "    rowcount = 0\n",
    "    with open(file_path, 'r') as csvfile:\n",
    "        reader = csv.reader(csvfile)\n",
    "        for row in reader:\n",
    "            if rowcount >= row_start and rowcount < row_end:\n",
    "                if len(row) > column_index:\n",
    "                    data.append(row[column_index])\n",
    "                rowcount += 1\n",
    "            elif rowcount >= row_end:\n",
    "                break\n",
    "            else: \n",
    "                rowcount += 1\n",
    "    return data\n",
    "\n",
    "# Read child's data from CSV file\n",
    "data = read_csv_column(\"/Users/tvidyala/Desktop/CHILDES/Laura.csv\", 1, 100, 8)  # Assuming column 7 contains utterances\n",
    "speaker_data = read_csv_column(\"/Users/tvidyala/Desktop/CHILDES/Laura.csv\", 1, 100, 4)  # Assuming column 3 contains speaker data\n",
    "age_data = read_csv_column(\"/Users/tvidyala/Desktop/CHILDES/Laura.csv\", 1, 100, 1)  # Assuming column 11 contains age data\n",
    "\n",
    "# Load VAD scores\n",
    "vad_scores = pd.read_csv(\"vad-nrc.csv\", index_col='Word')\n",
    "\n",
    "# Initialize variables to accumulate VAD scores\n",
    "total_vad = np.zeros([3,])\n",
    "valid_utterances = 0\n",
    "\n",
    "# Calculate VAD scores for each CHILD utterance and accumulate\n",
    "\n",
    "age = \"105\" # first number is age in years, second two numbers are number of months (01, 02, 03... 10, 11)\n",
    "for text in data:\n",
    "    if int(age) == int(age_data[data.index(text)][:3]): # fix this  \n",
    "        vad = VAD(text, vad_scores)\n",
    "        if speaker_data[data.index(text)] == \"CHI\":\n",
    "            if not np.isnan(vad).any():\n",
    "                total_vad += vad\n",
    "                valid_utterances += 1\n",
    "\n",
    "# Calculate the average VAD scores\n",
    "average_vad = total_vad / valid_utterances\n",
    "\n",
    "if age[1] == \"0\":\n",
    "    print(f\"Average VAD scores for Child's Utterances at {age[0]} year(s) and {age[2]} month(s)\")\n",
    "    print(\"Valence:\", average_vad[0])\n",
    "    print(\"Arousal:\", average_vad[1])\n",
    "    print(\"Dominance:\", average_vad[2])\n",
    "else: \n",
    "    print(f\"Average VAD scores for Child's Utterances at {age[0]} year(s) and {age[1]+age[2]} month(s)\")\n",
    "    print(\"Valence:\", average_vad[0])\n",
    "    print(\"Arousal:\", average_vad[1])\n",
    "    print(\"Dominance:\", average_vad[2])  "
   ]
  }
 ],
 "metadata": {
  "kernelspec": {
   "display_name": "Python 3 (ipykernel)",
   "language": "python",
   "name": "python3"
  },
  "language_info": {
   "codemirror_mode": {
    "name": "ipython",
    "version": 3
   },
   "file_extension": ".py",
   "mimetype": "text/x-python",
   "name": "python",
   "nbconvert_exporter": "python",
   "pygments_lexer": "ipython3",
   "version": "3.11.5"
  }
 },
 "nbformat": 4,
 "nbformat_minor": 5
}
