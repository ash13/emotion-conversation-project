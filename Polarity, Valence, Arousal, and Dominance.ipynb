{
 "cells": [
  {
   "cell_type": "markdown",
   "id": "fcb6b6f5",
   "metadata": {
    "tags": []
   },
   "source": [
    "# Finding Polarity "
   ]
  },
  {
   "cell_type": "code",
   "execution_count": 1,
   "id": "f096e727",
   "metadata": {
    "tags": []
   },
   "outputs": [],
   "source": [
    "import nltk\n",
    "import csv\n",
    "import numpy as np\n",
    "import pandas as pd\n",
    "from nltk.sentiment.vader import SentimentIntensityAnalyzer"
   ]
  },
  {
   "cell_type": "code",
   "execution_count": 2,
   "id": "24094805",
   "metadata": {
    "tags": []
   },
   "outputs": [],
   "source": [
    "def read_csv_column(file_path, row_start, row_end):\n",
    "    data = []\n",
    "    rowcount = 0\n",
    "    with open(file_path, 'r') as csvfile:\n",
    "        reader = csv.reader(csvfile)\n",
    "        for row in reader:\n",
    "            if rowcount >= row_start and rowcount < row_end:\n",
    "                if len(row) > 7:\n",
    "                    data.append(row[7]) # column 7 is the column for utterances\n",
    "                    rowcount += 1\n",
    "            elif rowcount >= row_end:\n",
    "                break\n",
    "            else: \n",
    "                rowcount+= 1\n",
    "    return data"
   ]
  },
  {
   "cell_type": "code",
   "execution_count": 3,
   "id": "f1b43d58",
   "metadata": {
    "tags": []
   },
   "outputs": [],
   "source": [
    "data = read_csv_column(\"/Users/tvidyala/Desktop/CHILDES/eng-NA-all-utterances.csv\", 1, 5)"
   ]
  },
  {
   "cell_type": "code",
   "execution_count": 4,
   "id": "b50ad17d",
   "metadata": {
    "tags": []
   },
   "outputs": [
    {
     "name": "stderr",
     "output_type": "stream",
     "text": [
      "/Users/tvidyala/anaconda3/lib/python3.11/site-packages/transformers/tokenization_utils_base.py:1601: FutureWarning: `clean_up_tokenization_spaces` was not set. It will be set to `True` by default. This behavior will be depracted in transformers v4.45, and will be then set to `False` by default. For more details check this issue: https://github.com/huggingface/transformers/issues/31884\n",
      "  warnings.warn(\n",
      "Hardware accelerator e.g. GPU is available in the environment, but no `device` argument is passed to the `Pipeline` object. Model will be on CPU.\n"
     ]
    },
    {
     "name": "stdout",
     "output_type": "stream",
     "text": [
      "Text: I feel good\n",
      "Sentiment: POSITIVE, Confidence: 0.9999\n",
      "\n"
     ]
    }
   ],
   "source": [
    "from transformers import pipeline\n",
    "sentiment_pipeline = pipeline(\"sentiment-analysis\", model=\"distilbert-base-uncased-finetuned-sst-2-english\")\n",
    "data = [\"I feel good\"]\n",
    "\n",
    "for item in data:\n",
    "    print(f\"Text: {item}\")\n",
    "    result = sentiment_pipeline(item)\n",
    "    print(f\"Sentiment: {result[0]['label']}, Confidence: {result[0]['score']:.4f}\\n\")"
   ]
  },
  {
   "cell_type": "code",
   "execution_count": 5,
   "id": "275aaeb9",
   "metadata": {},
   "outputs": [
    {
     "name": "stdout",
     "output_type": "stream",
     "text": [
      "I feel good\n",
      "{'neg': 0.0, 'neu': 0.256, 'pos': 0.744, 'compound': 0.4404}\n",
      "\n"
     ]
    }
   ],
   "source": [
    "from nltk.sentiment.vader import SentimentIntensityAnalyzer\n",
    "analyzer = SentimentIntensityAnalyzer()\n",
    "data = data \n",
    "for item in data:\n",
    "    print(item)\n",
    "    print(f\"{analyzer.polarity_scores(item)}\\n\")"
   ]
  },
  {
   "cell_type": "code",
   "execution_count": 6,
   "id": "a3668b9d",
   "metadata": {
    "tags": []
   },
   "outputs": [
    {
     "name": "stdout",
     "output_type": "stream",
     "text": [
      "i feel happy\n",
      "[{'label': 'POSITIVE', 'score': 0.999883770942688}]\n",
      "\n",
      "{'neg': 0.0, 'neu': 0.213, 'pos': 0.787, 'compound': 0.5719}\n",
      "\n"
     ]
    }
   ],
   "source": [
    "from nltk.sentiment.vader import SentimentIntensityAnalyzer\n",
    "analyzer = SentimentIntensityAnalyzer()\n",
    "data = [\"i feel happy\"] \n",
    "for item in data:\n",
    "    print(item)\n",
    "    print(f\"{sentiment_pipeline(item)}\\n\")\n",
    "    print(f\"{analyzer.polarity_scores(item)}\\n\")"
   ]
  },
  {
   "cell_type": "markdown",
   "id": "424dac7a-5c0f-4ae6-a882-2094d07ba827",
   "metadata": {},
   "source": [
    "# Finding Valence, Arousal, and Dominance"
   ]
  },
  {
   "cell_type": "code",
   "execution_count": 7,
   "id": "8fbd1d12-f706-4dc0-83bf-a95fbfd97883",
   "metadata": {
    "tags": []
   },
   "outputs": [
    {
     "name": "stdout",
     "output_type": "stream",
     "text": [
      "1\n",
      "MOT: \"yeah\"\n",
      "N/A \n",
      "\n",
      "2\n",
      "MOT: \"this is July thirtieth\"\n",
      "N/A \n",
      "\n",
      "3\n",
      "CHI: \"go\"\n",
      "valence      0.510\n",
      "arousal      0.441\n",
      "dominance    0.444\n",
      "Name: go, dtype: float64\n",
      "\n",
      "4\n",
      "MOT: \"that's the recorder\"\n",
      "valence      0.551\n",
      "arousal      0.374\n",
      "dominance    0.481\n",
      "Name: recorder, dtype: float64\n",
      "\n",
      "5\n",
      "MOT: \"that's correct\"\n",
      "valence      0.857\n",
      "arousal      0.306\n",
      "dominance    0.723\n",
      "Name: correct, dtype: float64\n",
      "\n",
      "6\n",
      "MOT: \"day day day day day day day day day day day\"\n",
      "valence      0.719\n",
      "arousal      0.269\n",
      "dominance    0.389\n",
      "Name: day, dtype: float64\n",
      "\n",
      "7\n",
      "CHI: \"be\"\n",
      "valence      0.670\n",
      "arousal      0.240\n",
      "dominance    0.554\n",
      "Name: be, dtype: float64\n",
      "\n",
      "8\n",
      "MOT: \"be what\"\n",
      "valence      0.670\n",
      "arousal      0.240\n",
      "dominance    0.554\n",
      "Name: be, dtype: float64\n",
      "\n",
      "9\n",
      "CHI: \"Shower\"\n",
      "N/A \n",
      "\n"
     ]
    },
    {
     "name": "stderr",
     "output_type": "stream",
     "text": [
      "/var/folders/ym/3kwq9dtj5914fkc699t0n4980000gn/T/ipykernel_61561/1417592897.py:12: RuntimeWarning: invalid value encountered in divide\n",
      "  return text_vad / i\n"
     ]
    }
   ],
   "source": [
    "def VAD(text, vad_scores):\n",
    "    i, j = 0, 0\n",
    "    text_vad = np.zeros([3,])\n",
    "    for word in text.split(' '):\n",
    "        neg = 1  # reverse polarity for this word\n",
    "        if word in vad_scores.index:\n",
    "            if 'no' in text.split(' ')[max(0, j-6):j] or 'not' in text.split(' ')[max(0, j-6):j] or 'n\\'t' in str(text.split(' ')[max(0, j-3):j]):\n",
    "                neg = -1\n",
    "            text_vad = vad_scores.loc[word] * neg + text_vad\n",
    "            i += 1\n",
    "        j += 1\n",
    "    return text_vad / i\n",
    "\n",
    "def read_csv_column(file_path, row_start, row_end, column_index):\n",
    "    data = []\n",
    "    rowcount = 0\n",
    "    with open(file_path, 'r') as csvfile:\n",
    "        reader = csv.reader(csvfile)\n",
    "        for row in reader:\n",
    "            if rowcount >= row_start and rowcount < row_end:\n",
    "                if len(row) > column_index:\n",
    "                    data.append(row[column_index])\n",
    "                rowcount += 1\n",
    "            elif rowcount >= row_end:\n",
    "                break\n",
    "            else: \n",
    "                rowcount += 1\n",
    "    return data\n",
    "\n",
    "data = read_csv_column(\"/Users/tvidyala/Desktop/CHILDES/Laura.csv\", 1, 10, 8) \n",
    "speaker_data = read_csv_column(\"/Users/tvidyala/Desktop/CHILDES/Laura.csv\", 1, 10, 4) \n",
    "filename_data = read_csv_column(\"/Users/tvidyala/Desktop/CHILDES/Laura.csv\", 1, 10, 0)\n",
    "\n",
    "vad_scores = pd.read_csv(\"vad-nrc.csv\", index_col='Word')\n",
    "\n",
    "for text in data:\n",
    "    vad = VAD(text, vad_scores)\n",
    "    print(data.index(text)+1)\n",
    "    print(f'{speaker_data[data.index(text)]}: \"{text}\"')\n",
    "    if np.isnan(vad).any():\n",
    "        print(\"N/A \\n\")\n",
    "    else:\n",
    "        print(vad)\n",
    "        print(\"\")\n",
    "        \n",
    "arousal_scores = []\n",
    "valence_scores = []\n",
    "dominance_scores = []\n",
    "\n",
    "for text in data:\n",
    "    vad = VAD(text, vad_scores)\n",
    "    arousal_scores.append(vad[0])\n",
    "    valence_scores.append(vad[1])\n",
    "    dominance_scores.append(vad[2])\n",
    "\n",
    "df = pd.DataFrame({\n",
    "    'File Name': filename_data,\n",
    "    'Utterance': data,\n",
    "    'Speaker': speaker_data,\n",
    "    'Arousal': arousal_scores,\n",
    "    'Valence': valence_scores,\n",
    "    'Dominance': dominance_scores\n",
    "})\n",
    "\n",
    "df.to_csv(\"/Users/tvidyala/Desktop/CHILDES/LauraVADScores.csv\", index=False) # updates LauraVADScores with VAD Scores\n"
   ]
  },
  {
   "cell_type": "markdown",
   "id": "d76538f1-f3b5-4e9b-aa7f-c55299301e40",
   "metadata": {},
   "source": [
    "# Finding Average Valence, Arousal, and Dominance for Child by Age"
   ]
  },
  {
   "cell_type": "code",
   "execution_count": 11,
   "id": "59f92669-a6b5-4ff7-95af-a95b21e16712",
   "metadata": {
    "tags": []
   },
   "outputs": [
    {
     "name": "stdout",
     "output_type": "stream",
     "text": [
      "Average VAD scores for Child's Utterances at 1 year(s) and 5 month(s)\n",
      "Valence: 0.4869333333333333\n",
      "Arousal: 0.43606666666666677\n",
      "Dominance: 0.3637333333333333\n"
     ]
    },
    {
     "name": "stderr",
     "output_type": "stream",
     "text": [
      "/var/folders/ym/3kwq9dtj5914fkc699t0n4980000gn/T/ipykernel_61561/1813533234.py:12: RuntimeWarning: invalid value encountered in divide\n",
      "  return text_vad / i\n"
     ]
    }
   ],
   "source": [
    "def VAD(text, vad_scores):\n",
    "    i, j = 0, 0\n",
    "    text_vad = np.zeros([3,])\n",
    "    for word in text.split(' '):\n",
    "        neg = 1  # reverse polarity for this word\n",
    "        if word in vad_scores.index:\n",
    "            if 'no' in text.split(' ')[max(0, j-6):j] or 'not' in text.split(' ')[max(0, j-6):j] or 'n\\'t' in str(text.split(' ')[max(0, j-3):j]):\n",
    "                neg = -1\n",
    "            text_vad = vad_scores.loc[word] * neg + text_vad\n",
    "            i += 1\n",
    "        j += 1\n",
    "    return text_vad / i\n",
    "\n",
    "def read_csv_column(file_path, row_start, row_end, column_index):\n",
    "    data = []\n",
    "    rowcount = 0\n",
    "    with open(file_path, 'r') as csvfile:\n",
    "        reader = csv.reader(csvfile)\n",
    "        for row in reader:\n",
    "            if rowcount >= row_start and rowcount < row_end:\n",
    "                if len(row) > column_index:\n",
    "                    data.append(row[column_index])\n",
    "                rowcount += 1\n",
    "            elif rowcount >= row_end:\n",
    "                break\n",
    "            else: \n",
    "                rowcount += 1\n",
    "    return data\n",
    "\n",
    "data = read_csv_column(\"/Users/tvidyala/Desktop/CHILDES/Laura.csv\", 1, 100, 8) \n",
    "speaker_data = read_csv_column(\"/Users/tvidyala/Desktop/CHILDES/Laura.csv\", 1, 100, 4)  \n",
    "age_data = read_csv_column(\"/Users/tvidyala/Desktop/CHILDES/Laura.csv\", 1, 100, 1) \n",
    "\n",
    "vad_scores = pd.read_csv(\"vad-nrc.csv\", index_col='Word')\n",
    "\n",
    "total_vad = np.zeros([3,])\n",
    "valid_utterances = 0\n",
    "\n",
    "age = \"105\" # 1 year and 5 months\n",
    "for text in data:\n",
    "    if int(age) == int(age_data[data.index(text)][:3]): \n",
    "        vad = VAD(text, vad_scores)\n",
    "        if speaker_data[data.index(text)] == \"CHI\":\n",
    "            if not np.isnan(vad).any():\n",
    "                total_vad += vad\n",
    "                valid_utterances += 1\n",
    "\n",
    "average_vad = total_vad / valid_utterances\n",
    "\n",
    "if age[1] == \"0\":\n",
    "    print(f\"Average VAD scores for Child's Utterances at {age[0]} year(s) and {age[2]} month(s)\")\n",
    "    print(\"Valence:\", average_vad[0])\n",
    "    print(\"Arousal:\", average_vad[1])\n",
    "    print(\"Dominance:\", average_vad[2])\n",
    "else: \n",
    "    print(f\"Average VAD scores for Child's Utterances at {age[0]} year(s) and {age[1]+age[2]} month(s)\")\n",
    "    print(\"Valence:\", average_vad[0])\n",
    "    print(\"Arousal:\", average_vad[1])\n",
    "    print(\"Dominance:\", average_vad[2])  "
   ]
  },
  {
   "cell_type": "code",
   "execution_count": null,
   "id": "687942ca-7897-4f46-8f00-640342c7d622",
   "metadata": {},
   "outputs": [],
   "source": []
  }
 ],
 "metadata": {
  "kernelspec": {
   "display_name": "Python 3 (ipykernel)",
   "language": "python",
   "name": "python3"
  },
  "language_info": {
   "codemirror_mode": {
    "name": "ipython",
    "version": 3
   },
   "file_extension": ".py",
   "mimetype": "text/x-python",
   "name": "python",
   "nbconvert_exporter": "python",
   "pygments_lexer": "ipython3",
   "version": "3.11.5"
  }
 },
 "nbformat": 4,
 "nbformat_minor": 5
}
